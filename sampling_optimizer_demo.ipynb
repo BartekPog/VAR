{
 "cells": [
  {
   "cell_type": "code",
   "execution_count": 1,
   "metadata": {},
   "outputs": [
    {
     "name": "stderr",
     "output_type": "stream",
     "text": [
      "/BS/var-training/work/var/.venv-var/lib/python3.11/site-packages/tqdm/auto.py:21: TqdmWarning: IProgress not found. Please update jupyter and ipywidgets. See https://ipywidgets.readthedocs.io/en/stable/user_install.html\n",
      "  from .autonotebook import tqdm as notebook_tqdm\n"
     ]
    }
   ],
   "source": [
    "from varoptimizer.var_sampling_optimizer import VarSamplingOptimizer"
   ]
  },
  {
   "cell_type": "code",
   "execution_count": 2,
   "metadata": {},
   "outputs": [
    {
     "name": "stdout",
     "output_type": "stream",
     "text": [
      "\n",
      "[constructor]  ==== flash_if_available=True (0/16), fused_if_available=True (fusing_add_ln=0/16, fusing_mlp=0/16) ==== \n",
      "    [VAR config ] embed_dim=1024, num_heads=16, depth=16, mlp_ratio=4.0\n",
      "    [drop ratios ] drop_rate=0.0, attn_drop_rate=0.0, drop_path_rate=0.0666667 (tensor([0.0000, 0.0044, 0.0089, 0.0133, 0.0178, 0.0222, 0.0267, 0.0311, 0.0356,\n",
      "        0.0400, 0.0444, 0.0489, 0.0533, 0.0578, 0.0622, 0.0667]))\n",
      "\n",
      "[init_weights] VAR with init_std=0.0180422\n"
     ]
    }
   ],
   "source": [
    "device ='cuda'\n",
    "sampling_optimizer = VarSamplingOptimizer(model_depth=16, device=device)"
   ]
  },
  {
   "cell_type": "code",
   "execution_count": 7,
   "metadata": {},
   "outputs": [
    {
     "name": "stderr",
     "output_type": "stream",
     "text": [
      "100%|██████████| 100/100 [00:00<00:00, 128.62it/s]\n",
      "100%|██████████| 100/100 [00:00<00:00, 109.16it/s]\n",
      "100%|██████████| 100/100 [00:01<00:00, 99.04it/s]\n",
      "100%|██████████| 100/100 [00:01<00:00, 79.91it/s]\n",
      "100%|██████████| 100/100 [00:01<00:00, 62.16it/s]\n",
      "100%|██████████| 100/100 [00:02<00:00, 44.55it/s]\n",
      "100%|██████████| 100/100 [00:03<00:00, 32.75it/s]\n",
      "100%|██████████| 100/100 [00:04<00:00, 23.22it/s]\n",
      "100%|██████████| 100/100 [00:06<00:00, 14.76it/s]\n",
      "100%|██████████| 100/100 [00:10<00:00,  9.11it/s]\n"
     ]
    }
   ],
   "source": [
    "\n",
    "import torch\n",
    "from tqdm import tqdm\n",
    "import numpy as np\n",
    "\n",
    "class_labels = (980, 980, 437, 22)\n",
    "\n",
    "initial_noise = 0.1\n",
    "cfg = 7\n",
    "top_k = 600 #700\n",
    "top_p = 0.65 #0.95 #0.95\n",
    "lr = 0.08\n",
    "steps_per_size = 100\n",
    "seed = 42\n",
    "\n",
    "scale_by_inv_area = False\n",
    "\n",
    "total_steps = steps_per_size * len(sampling_optimizer.patch_nums)\n",
    "\n",
    "label_B: torch.LongTensor = torch.tensor(class_labels, device=device)\n",
    "f_initial = torch.randn([4, 32, 16, 16], device=device) * initial_noise # std=0.5\n",
    "f = f_initial.clone().detach().requires_grad_(True)\n",
    "\n",
    "optimizer = torch.optim.Adam([f], lr=lr)\n",
    "\n",
    "for b in sampling_optimizer.var.blocks: b.attn.kv_caching(False)\n",
    "\n",
    "for max_next_map_size_index in range(len(sampling_optimizer.patch_nums)):\n",
    "\n",
    "    for i in tqdm(range(steps_per_size), total=steps_per_size):\n",
    "        optimizer.zero_grad()\n",
    "        loss = 0\n",
    "\n",
    "        loss += sampling_optimizer.get_optimization_loss(f, label_B=label_B, predicted_map_size_index=max_next_map_size_index, batch_size=4, cfg=cfg, top_k=top_k, top_p=top_p, scale_by_inv_area=scale_by_inv_area, seed=seed)\n",
    "\n",
    "        random_size_index = np.random.randint(0, max_next_map_size_index + 1)\n",
    "        loss += sampling_optimizer.get_optimization_loss(f, label_B=label_B, predicted_map_size_index=random_size_index, batch_size=4, cfg=cfg, top_k=top_k, top_p=top_p, scale_by_inv_area=scale_by_inv_area, seed=seed)    \n",
    "\n",
    "        # if i % 100 == 0:\n",
    "        #     print(f'loss: {loss.item()}')\n",
    "\n",
    "        step_weight = np.power((steps_per_size - i + 1) / steps_per_size, 1/3)\n",
    "\n",
    "        loss*= step_weight\n",
    "        \n",
    "\n",
    "        #loss*= step_weight\n",
    "        loss.backward()\n",
    "        optimizer.step()"
   ]
  },
  {
   "cell_type": "code",
   "execution_count": 8,
   "metadata": {},
   "outputs": [
    {
     "name": "stderr",
     "output_type": "stream",
     "text": [
      "kf.service.services: KApplicationTrader: mimeType \"x-scheme-handler/file\" not found\n",
      "kf.i18n.kuit: \"Unknown subcue ':whatsthis,' in UI marker in context {@info:whatsthis, %1 the action's text}.\"\n",
      "org.kde.kdegraphics.gwenview.lib: Unresolved raw mime type  \"image/x-samsung-srw\"\n"
     ]
    }
   ],
   "source": [
    "import torchvision\n",
    "import PIL.Image as PImage\n",
    "\n",
    "def visualise(f_hat):\n",
    "    image = sampling_optimizer.vae.fhat_to_img(f_hat.detach()).add_(1).mul_(0.5)\n",
    "\n",
    "    chw = torchvision.utils.make_grid(image, nrow=8, padding=0, pad_value=1.0)\n",
    "    chw = chw.permute(1, 2, 0).mul_(255).cpu().numpy()\n",
    "    chw = PImage.fromarray(chw.astype(np.uint8))\n",
    "    chw.show()\n",
    "\n",
    "visualise(f)"
   ]
  },
  {
   "cell_type": "code",
   "execution_count": null,
   "metadata": {},
   "outputs": [],
   "source": []
  }
 ],
 "metadata": {
  "kernelspec": {
   "display_name": ".venv-var",
   "language": "python",
   "name": "python3"
  },
  "language_info": {
   "codemirror_mode": {
    "name": "ipython",
    "version": 3
   },
   "file_extension": ".py",
   "mimetype": "text/x-python",
   "name": "python",
   "nbconvert_exporter": "python",
   "pygments_lexer": "ipython3",
   "version": "3.11.2"
  }
 },
 "nbformat": 4,
 "nbformat_minor": 2
}
